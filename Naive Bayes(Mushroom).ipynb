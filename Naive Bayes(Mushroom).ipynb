{
 "cells": [
  {
   "cell_type": "code",
   "execution_count": 1,
   "metadata": {},
   "outputs": [],
   "source": [
    "import numpy as np\n",
    "import pandas as pd"
   ]
  },
  {
   "cell_type": "code",
   "execution_count": 2,
   "metadata": {},
   "outputs": [],
   "source": [
    "df=pd.read_csv(\"D:\\mushrooms.csv\")"
   ]
  },
  {
   "cell_type": "code",
   "execution_count": 3,
   "metadata": {},
   "outputs": [],
   "source": [
    "from sklearn.preprocessing import LabelEncoder\n",
    "from sklearn.model_selection import train_test_split"
   ]
  },
  {
   "cell_type": "markdown",
   "metadata": {},
   "source": [
    "Since the data is not numerical , therefore we will convert it into numerical data using sklearn Label Encoder"
   ]
  },
  {
   "cell_type": "code",
   "execution_count": 4,
   "metadata": {},
   "outputs": [],
   "source": [
    "le=LabelEncoder()\n",
    "ds=df.apply(le.fit_transform)"
   ]
  },
  {
   "cell_type": "code",
   "execution_count": 6,
   "metadata": {},
   "outputs": [],
   "source": [
    "X=ds.values[:,1:]\n",
    "Y=ds.values[:,0]"
   ]
  },
  {
   "cell_type": "code",
   "execution_count": null,
   "metadata": {},
   "outputs": [],
   "source": []
  },
  {
   "cell_type": "code",
   "execution_count": 66,
   "metadata": {},
   "outputs": [],
   "source": [
    "Xtrain,Xtest,Ytrain,Ytest=train_test_split(X,Y,test_size=0.20)"
   ]
  },
  {
   "cell_type": "code",
   "execution_count": 108,
   "metadata": {},
   "outputs": [],
   "source": [
    "dfx=pd.read_csv(\"Diabetes_XTrain.csv\")\n",
    "dfy=pd.read_csv(\"Diabetes_YTrain.csv\")\n",
    "dfxtest=pd.read_csv(\"Diabetes_Xtest.csv\")\n",
    "X=dfx.values\n",
    "Y=dfy.values\n",
    "Y=Y.reshape((-1,))"
   ]
  },
  {
   "cell_type": "code",
   "execution_count": 109,
   "metadata": {},
   "outputs": [],
   "source": [
    "def prior_prob_mickey(Ytrain,label=1):\n",
    "    prob=[]\n",
    "    m=Ytrain.shape[0]\n",
    "    counts=np.unique(Ytrain,return_counts=True)\n",
    "    for i in range(len(counts[0])):\n",
    "        prob.append((counts[0][i],counts[1][i]/m))\n",
    "    return(prob)"
   ]
  },
  {
   "cell_type": "code",
   "execution_count": 110,
   "metadata": {},
   "outputs": [],
   "source": [
    "def prior_prob(Ytrain,label):\n",
    "    prob=np.sum(Ytrain==label)/Ytrain.shape[0]\n",
    "    return(prob)\n",
    "\n",
    "def condtional_prob(Xtrain,Ytrain,feature_column,feature_value,label):\n",
    "    #taking only those rows which belongs to the given label\n",
    "    X_filtered=Xtrain[Ytrain==label]\n",
    "    #here i m calculating how many samples are there belonging to the given label/class\n",
    "    m=np.sum(Ytrain==label)    \n",
    "   #here i m calculating how many samples are there which have a  certain feature value ,given that it belongs to a cetain class\n",
    "    prob=np.sum(X_filtered[:,feature_column]==feature_value)\n",
    "    return(prob/m)\n",
    "\n",
    "def likelihood(Xtrain,Ytrain,Xtest):\n",
    "    like=[]\n",
    "    classes=np.unique(Ytrain)\n",
    "    for label in classes:\n",
    "        l=1\n",
    "        for i in range(Xtrain.shape[1]):\n",
    "            l*=condtional_prob(Xtrain,Ytrain,i,Xtest[i],label)\n",
    "        like.append((label,l))\n",
    "    return(like)\n",
    "\n",
    "def predict(Xtrain,Ytrain,Xtest):\n",
    "    n_features=Xtrain.shape[1]\n",
    "    classes=np.unique(Ytrain)\n",
    "    post_prob=[]\n",
    "    for label in classes:\n",
    "        likelihood=1\n",
    "        for i in range(n_features):\n",
    "            likelihood*=condtional_prob(Xtrain,Ytrain,i,Xtest[i],label)\n",
    "        post=likelihood*prior_prob(Ytrain,label)\n",
    "        post_prob.append(post)\n",
    "    ind=np.argmax(post_prob)\n",
    "    return(ind)\n",
    "\n",
    "def predict2(Xtrain,Ytrain,Xtest):\n",
    "    n_features=Xtrain.shape[1]\n",
    "    classes=np.unique(Ytrain)\n",
    "    post_prob=[]\n",
    "    likelihud=likelihood(Xtrain,Ytrain,Xtest)\n",
    "    for i in range(len(classes)):\n",
    "        post_prob.append(likelihud[i][1]*prior_prob(Ytrain,classes[i]))\n",
    "    ind=post_prob.index(max(post_prob))\n",
    "    return(likelihud[ind][0])\n",
    "   \n",
    "def score(Xtrain,Ytrain,Xtest,Ytest):\n",
    "    sc=0\n",
    "    pred=[]\n",
    "    for i in range(Xtest.shape[0]):\n",
    "        val=predict2(Xtrain,Ytrain,Xtest[i])\n",
    "        pred.append(val)\n",
    "    sc=np.sum(pred==Ytest)\n",
    "    return(sc/Xtest.shape[0])\n",
    "\n",
    "def answer(Xtrain,Ytrain,Xtest):\n",
    "    pred=[]\n",
    "    for i in range(Xtest.shape[0]):\n",
    "        val=predict2(Xtrain,Ytrain,Xtest[i])\n",
    "        pred.append(val)\n",
    "    return(pred)"
   ]
  },
  {
   "cell_type": "code",
   "execution_count": 111,
   "metadata": {},
   "outputs": [],
   "source": [
    "ans=answer(X,Y,Xt)\n",
    "dataf=pd.DataFrame(ans)\n",
    "dataf.to_csv(\"A.csv\")"
   ]
  },
  {
   "cell_type": "code",
   "execution_count": 113,
   "metadata": {},
   "outputs": [
    {
     "data": {
      "text/plain": [
       "(array([0, 1], dtype=int64), array([178,  14], dtype=int64))"
      ]
     },
     "execution_count": 113,
     "metadata": {},
     "output_type": "execute_result"
    }
   ],
   "source": [
    "np.unique(ans,return_counts=True)"
   ]
  },
  {
   "cell_type": "code",
   "execution_count": 86,
   "metadata": {},
   "outputs": [
    {
     "name": "stdout",
     "output_type": "stream",
     "text": [
      "0.5212307692307693 0.9944615384615385\n"
     ]
    }
   ],
   "source": [
    "print(sc1,sc2)"
   ]
  },
  {
   "cell_type": "code",
   "execution_count": 70,
   "metadata": {},
   "outputs": [],
   "source": []
  },
  {
   "cell_type": "code",
   "execution_count": 71,
   "metadata": {},
   "outputs": [],
   "source": []
  },
  {
   "cell_type": "code",
   "execution_count": 73,
   "metadata": {},
   "outputs": [],
   "source": []
  },
  {
   "cell_type": "code",
   "execution_count": 75,
   "metadata": {},
   "outputs": [
    {
     "data": {
      "text/plain": [
       "0.9944615384615385"
      ]
     },
     "execution_count": 75,
     "metadata": {},
     "output_type": "execute_result"
    }
   ],
   "source": []
  },
  {
   "cell_type": "code",
   "execution_count": null,
   "metadata": {},
   "outputs": [],
   "source": []
  }
 ],
 "metadata": {
  "kernelspec": {
   "display_name": "Python 3",
   "language": "python",
   "name": "python3"
  },
  "language_info": {
   "codemirror_mode": {
    "name": "ipython",
    "version": 3
   },
   "file_extension": ".py",
   "mimetype": "text/x-python",
   "name": "python",
   "nbconvert_exporter": "python",
   "pygments_lexer": "ipython3",
   "version": "3.7.1"
  }
 },
 "nbformat": 4,
 "nbformat_minor": 2
}
